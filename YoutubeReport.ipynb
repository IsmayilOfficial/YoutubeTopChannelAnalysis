{
 "cells": [
  {
   "cell_type": "code",
   "execution_count": 1,
   "metadata": {},
   "outputs": [],
   "source": [
    "import YoutubeParse\n",
    "\n",
    "import re\n",
    "\n",
    "import numpy as np\n",
    "import seaborn as sns\n",
    "import matplotlib.pyplot as plt\n",
    "%matplotlib inline\n",
    "from matplotlib.backends.backend_pdf import PdfPages\n",
    "\n",
    "from datetime import datetime\n",
    "from collections import defaultdict\n",
    "\n"
   ]
  },
  {
   "cell_type": "code",
   "execution_count": 2,
   "metadata": {},
   "outputs": [
    {
     "ename": "TypeError",
     "evalue": "'encoding' is an invalid keyword argument for this function",
     "output_type": "error",
     "traceback": [
      "\u001b[0;31m---------------------------------------------------------------------------\u001b[0m",
      "\u001b[0;31mTypeError\u001b[0m                                 Traceback (most recent call last)",
      "\u001b[0;32m<ipython-input-2-0b0355902dc6>\u001b[0m in \u001b[0;36m<module>\u001b[0;34m()\u001b[0m\n\u001b[1;32m      1\u001b[0m \u001b[0myoutube_data\u001b[0m \u001b[0;34m=\u001b[0m \u001b[0mYoutubeParse\u001b[0m\u001b[0;34m.\u001b[0m\u001b[0mget_data\u001b[0m\u001b[0;34m(\u001b[0m\u001b[0;34m)\u001b[0m\u001b[0;34m\u001b[0m\u001b[0m\n\u001b[1;32m      2\u001b[0m \u001b[0;34m\u001b[0m\u001b[0m\n\u001b[0;32m----> 3\u001b[0;31m \u001b[0myoutube_data\u001b[0m\u001b[0;34m.\u001b[0m\u001b[0msearch_data\u001b[0m\u001b[0;34m(\u001b[0m\u001b[0;34m)\u001b[0m\u001b[0;34m\u001b[0m\u001b[0m\n\u001b[0m\u001b[1;32m      4\u001b[0m \u001b[0myoutube_data\u001b[0m\u001b[0;34m.\u001b[0m\u001b[0mwatch_data\u001b[0m\u001b[0;34m(\u001b[0m\u001b[0;34m)\u001b[0m\u001b[0;34m\u001b[0m\u001b[0m\n\u001b[1;32m      5\u001b[0m \u001b[0myoutube_data\u001b[0m\u001b[0;34m.\u001b[0m\u001b[0mcomments_data\u001b[0m\u001b[0;34m(\u001b[0m\u001b[0;34m)\u001b[0m\u001b[0;34m\u001b[0m\u001b[0m\n",
      "\u001b[0;32m/Users/ismayiltahmazov/Downloads/YoutubeAnalysis/YouTube/YoutubeParse.py\u001b[0m in \u001b[0;36msearch_data\u001b[0;34m(self)\u001b[0m\n\u001b[1;32m     23\u001b[0m \u001b[0;34m\u001b[0m\u001b[0m\n\u001b[1;32m     24\u001b[0m     \u001b[0;32mdef\u001b[0m \u001b[0msearch_data\u001b[0m\u001b[0;34m(\u001b[0m\u001b[0mself\u001b[0m\u001b[0;34m)\u001b[0m\u001b[0;34m:\u001b[0m\u001b[0;34m\u001b[0m\u001b[0m\n\u001b[0;32m---> 25\u001b[0;31m         \u001b[0;32mwith\u001b[0m \u001b[0mopen\u001b[0m\u001b[0;34m(\u001b[0m\u001b[0msearch_file\u001b[0m\u001b[0;34m,\u001b[0m \u001b[0;34m'r'\u001b[0m\u001b[0;34m,\u001b[0m \u001b[0mencoding\u001b[0m\u001b[0;34m=\u001b[0m\u001b[0;34m'utf-8'\u001b[0m\u001b[0;34m)\u001b[0m \u001b[0;32mas\u001b[0m \u001b[0msf\u001b[0m\u001b[0;34m:\u001b[0m\u001b[0;34m\u001b[0m\u001b[0m\n\u001b[0m\u001b[1;32m     26\u001b[0m             \u001b[0msearch_history\u001b[0m \u001b[0;34m=\u001b[0m \u001b[0mBeautifulSoup\u001b[0m\u001b[0;34m(\u001b[0m\u001b[0msf\u001b[0m\u001b[0;34m,\u001b[0m\u001b[0;34m'lxml'\u001b[0m\u001b[0;34m)\u001b[0m\u001b[0;34m\u001b[0m\u001b[0m\n\u001b[1;32m     27\u001b[0m         \u001b[0msearches\u001b[0m \u001b[0;34m=\u001b[0m \u001b[0msearch_history\u001b[0m\u001b[0;34m.\u001b[0m\u001b[0mfind_all\u001b[0m\u001b[0;34m(\u001b[0m\u001b[0;34m'a'\u001b[0m\u001b[0;34m)\u001b[0m\u001b[0;34m\u001b[0m\u001b[0m\n",
      "\u001b[0;31mTypeError\u001b[0m: 'encoding' is an invalid keyword argument for this function"
     ]
    }
   ],
   "source": [
    "youtube_data = YoutubeParse.get_data()\n",
    "\n",
    "youtube_data.search_data()\n",
    "youtube_data.watch_data()\n",
    "youtube_data.comments_data()\n",
    "youtube_data.like_data()\n",
    "youtube_data.subscriptions_data()\n",
    "\n",
    "pp = PdfPages('Report.pdf')"
   ]
  },
  {
   "cell_type": "code",
   "execution_count": null,
   "metadata": {},
   "outputs": [],
   "source": [
    "def make_yearly_plot():\n",
    "    yearly_watches = defaultdict(int)\n",
    "    \n",
    "    for time in youtube_data.watch_metrics['timestamps']:\n",
    "        year = time.year\n",
    "        yearly_watches[year] += 1\n",
    "        \n",
    "    #print(list(yearly_watches.keys()),list(yearly_watches.values()))\n",
    "    plt.figure(figsize=(10,5))\n",
    "    sns.set(style='dark',font_scale = 1.3)\n",
    "    splot = sns.lineplot(x=list(yearly_watches.keys()), y=list(yearly_watches.values()))\n",
    "    splot.grid(True)\n",
    "    plt.title(\"No. of Videos Watched Over the Years\")\n",
    "    pp.savefig()"
   ]
  },
  {
   "cell_type": "code",
   "execution_count": null,
   "metadata": {},
   "outputs": [],
   "source": [
    "make_yearly_plot()"
   ]
  },
  {
   "cell_type": "code",
   "execution_count": null,
   "metadata": {},
   "outputs": [],
   "source": [
    "def make_activity_bar():\n",
    "    X = ['searched','watched','channels','subscribed','comments','likes']\n",
    "    Y = [len(youtube_data.search_text), \n",
    "         len(youtube_data.watch_metrics['videos']),\n",
    "         len(set(youtube_data.watch_metrics['channels'])),\n",
    "         youtube_data.total_subscriptions,\n",
    "         youtube_data.comments_metrics['no_of_comments'],\n",
    "         youtube_data.total_likes]\n",
    "    #print(Y)\n",
    "\n",
    "    plt.figure(figsize=(10,5))\n",
    "    sns.set(style='whitegrid', font_scale = 1.3)\n",
    "    splot = sns.barplot(x=X, y=Y, palette=\"Spectral\")\n",
    "    for p in splot.patches:\n",
    "        height = p.get_height()\n",
    "        splot.text(p.get_x() + p.get_width()/2,height,\"{:1.0f}\".format(height), ha=\"center\")\n",
    "    plt.title(\"Comparison Between Various Activities\")\n",
    "    pp.savefig()\n",
    "    "
   ]
  },
  {
   "cell_type": "code",
   "execution_count": null,
   "metadata": {},
   "outputs": [],
   "source": [
    "make_activity_bar()"
   ]
  },
  {
   "cell_type": "code",
   "execution_count": null,
   "metadata": {},
   "outputs": [],
   "source": [
    "def most_watched_channels():\n",
    "    channel_activity = {}\n",
    "    \n",
    "    for channel in youtube_data.watch_metrics['channels']:\n",
    "        channel = channel.contents[0]\n",
    "        if channel in channel_activity:\n",
    "            channel_activity[channel] += 1\n",
    "        else:\n",
    "            channel_activity[channel] = 1\n",
    "            \n",
    "    most_viewed = sorted(channel_activity.items(), key=lambda ca:(ca[1],ca[0]), reverse=True)[:10]\n",
    "    #Goes to show that these numbers could present a wrong picture without the 'last seen'\n",
    "    \n",
    "    plt.figure(figsize=(20,5))\n",
    "    sns.set(style='whitegrid', font_scale = 1.3)\n",
    "    splot = sns.barplot(y=[c[0] for c in most_viewed], x=[c[1] for c in most_viewed], palette=\"Spectral\")\n",
    "    for p in splot.patches:\n",
    "        width = p.get_width()\n",
    "        splot.text(width, p.get_y() + p.get_height()/2 + 0.1, \"{:1.0f}\".format(width), ha=\"left\")\n",
    "    plt.title(\"Top 10 Channels Watched\")\n",
    "    pp.savefig()\n",
    "    "
   ]
  },
  {
   "cell_type": "code",
   "execution_count": null,
   "metadata": {},
   "outputs": [],
   "source": [
    "most_watched_channels()"
   ]
  },
  {
   "cell_type": "code",
   "execution_count": null,
   "metadata": {},
   "outputs": [],
   "source": [
    "def daywise_comparison():\n",
    "    weekly_watches_overall = defaultdict(int)\n",
    "    weekly_watches_current = defaultdict(int)\n",
    "    weekly_watches_prev = defaultdict(int)\n",
    "    weekly_watches_prevtoprev = defaultdict(int)\n",
    "    \n",
    "    current_year = datetime.now().strftime(\"%Y\")\n",
    "    prev = str(int(current_year)-1)\n",
    "    prevtoprev = str(int(current_year)-2)\n",
    "    \n",
    "    \n",
    "    for time in youtube_data.watch_metrics['timestamps']:\n",
    "        weekday = time.strftime(\"%a\")\n",
    "        weekly_watches_overall[weekday] += 1\n",
    "        \n",
    "        if time.strftime(\"%Y\") == current_year:\n",
    "            weekly_watches_current[weekday] += 1\n",
    "        elif time.strftime(\"%Y\") == prev:\n",
    "            weekly_watches_prev[weekday] += 1\n",
    "        elif time.strftime(\"%Y\") == prevtoprev:\n",
    "            weekly_watches_prevtoprev[weekday] += 1\n",
    "        \n",
    "    \n",
    "    plt.figure(figsize=(10,5))\n",
    "    sns.set(style='whitegrid', font_scale = 1.3)\n",
    "    splot_overall = sns.barplot(x=list(weekly_watches_overall.keys()),y=list(weekly_watches_overall.values()), palette=\"Spectral\")\n",
    "    for p in splot_overall.patches:\n",
    "        height = p.get_height()\n",
    "        splot_overall.text(p.get_x() + p.get_width()/2, height, \"{:1.0f}\".format(height), ha=\"center\")\n",
    "    plt.title(\"Daywise Comparison Since Begininning Of Time\")\n",
    "    pp.savefig()\n",
    "    \n",
    "    if weekly_watches_current:\n",
    "        plt.figure(figsize=(10,5))\n",
    "        sns.set(style='whitegrid', font_scale = 1.3)\n",
    "        splot_current = sns.barplot(x=list(weekly_watches_current.keys()),y=list(weekly_watches_current.values()), palette=\"Spectral\")\n",
    "        for p in splot_current.patches:\n",
    "            height = p.get_height()\n",
    "            splot_current.text(p.get_x() + p.get_width()/2, height, \"{:1.0f}\".format(height), ha=\"center\")\n",
    "        plt.title(\"Daywise Comparison for \"+current_year)\n",
    "        pp.savefig()\n",
    "    \n",
    "    if weekly_watches_prev:\n",
    "        plt.figure(figsize=(10,5))\n",
    "        sns.set(style='whitegrid', font_scale = 1.3)\n",
    "        splot_prev = sns.barplot(x=list(weekly_watches_prev.keys()),y=list(weekly_watches_prev.values()), palette=\"Spectral\")\n",
    "        for p in splot_prev.patches:\n",
    "            height = p.get_height()\n",
    "            splot_prev.text(p.get_x() + p.get_width()/2, height, \"{:1.0f}\".format(height), ha=\"center\")\n",
    "        plt.title(\"Daywise Comparison for \"+prev)\n",
    "        pp.savefig()\n",
    "    \n",
    "    if weekly_watches_prevtoprev:\n",
    "        plt.figure(figsize=(10,5))\n",
    "        sns.set(style='whitegrid', font_scale = 1.3)\n",
    "        splot_prevtoprev = sns.barplot(x=list(weekly_watches_prevtoprev.keys()),y=list(weekly_watches_prevtoprev.values()), palette=\"Spectral\")\n",
    "        for p in splot_prevtoprev.patches:\n",
    "            height = p.get_height()\n",
    "            splot_prevtoprev.text(p.get_x() + p.get_width()/2, height, \"{:1.0f}\".format(height), ha=\"center\")\n",
    "        plt.title(\"Daywise Comparison for \"+prevtoprev)\n",
    "        pp.savefig()\n",
    "    \n"
   ]
  },
  {
   "cell_type": "code",
   "execution_count": null,
   "metadata": {},
   "outputs": [],
   "source": [
    "daywise_comparison()"
   ]
  },
  {
   "cell_type": "code",
   "execution_count": null,
   "metadata": {},
   "outputs": [],
   "source": [
    "def make_heatmap():\n",
    "    heatmap_data = [[0]*12 for _ in range(7)]\n",
    "    days = [\"Sun\", \"Mon\", \"Tue\", \"Wed\", \"Thur\", \"Fri\", \"Sat\"]\n",
    "    time_intervals = [\"0AM to 2 AM\", \"2AM to 4 AM\", \"4AM to 6 AM\", \"6AM to 8 AM\", \"8AM to 10 AM\", \n",
    "                      \"10AM to 12PM\", \"12PM to 2PM\", \"2PM to 4PM\", \"4PM to 6PM\", \"6PM to 8PM\", \"8PM to 10PM\", \"10PM to 12AM\"]\n",
    "    \n",
    "    for time in youtube_data.watch_metrics['timestamps']:\n",
    "        heatmap_data[int(time.strftime(\"%w\"))][int(time.strftime(\"%H\"))//2] += 1\n",
    "    \n",
    "    plt.figure(figsize=(20,14))\n",
    "    sns.set(font_scale = 1.4)\n",
    "    sns.heatmap(heatmap_data, xticklabels=time_intervals, yticklabels=days, cmap=\"YlOrRd\")\n",
    "    plt.title(\"At What Times Are You Most Active?\")\n",
    "    pp.savefig()\n",
    "    "
   ]
  },
  {
   "cell_type": "code",
   "execution_count": null,
   "metadata": {},
   "outputs": [],
   "source": [
    "make_heatmap()"
   ]
  },
  {
   "cell_type": "code",
   "execution_count": null,
   "metadata": {},
   "outputs": [],
   "source": []
  },
  {
   "cell_type": "code",
   "execution_count": null,
   "metadata": {},
   "outputs": [],
   "source": [
    "pp.close()"
   ]
  },
  {
   "cell_type": "code",
   "execution_count": null,
   "metadata": {},
   "outputs": [],
   "source": []
  },
  {
   "cell_type": "code",
   "execution_count": null,
   "metadata": {},
   "outputs": [],
   "source": []
  }
 ],
 "metadata": {
  "kernelspec": {
   "display_name": "Python 2",
   "language": "python",
   "name": "python2"
  },
  "language_info": {
   "codemirror_mode": {
    "name": "ipython",
    "version": 2
   },
   "file_extension": ".py",
   "mimetype": "text/x-python",
   "name": "python",
   "nbconvert_exporter": "python",
   "pygments_lexer": "ipython2",
   "version": "2.7.16"
  }
 },
 "nbformat": 4,
 "nbformat_minor": 2
}
